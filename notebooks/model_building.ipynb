{
 "cells": [
  {
   "cell_type": "markdown",
   "metadata": {},
   "source": [
    "Build a regression model."
   ]
  },
  {
   "cell_type": "code",
   "execution_count": 1,
   "metadata": {
    "tags": []
   },
   "outputs": [],
   "source": [
    "# imports\n",
    "import pandas as pd\n",
    "import statsmodels.api as sm\n",
    "\n",
    "grouped_business_df = pd.read_csv('grouped_business.csv', index_col = 0)"
   ]
  },
  {
   "cell_type": "code",
   "execution_count": 2,
   "metadata": {
    "tags": []
   },
   "outputs": [
    {
     "data": {
      "text/html": [
       "<div>\n",
       "<style scoped>\n",
       "    .dataframe tbody tr th:only-of-type {\n",
       "        vertical-align: middle;\n",
       "    }\n",
       "\n",
       "    .dataframe tbody tr th {\n",
       "        vertical-align: top;\n",
       "    }\n",
       "\n",
       "    .dataframe thead th {\n",
       "        text-align: right;\n",
       "    }\n",
       "</style>\n",
       "<table border=\"1\" class=\"dataframe\">\n",
       "  <thead>\n",
       "    <tr style=\"text-align: right;\">\n",
       "      <th></th>\n",
       "      <th>Station Name</th>\n",
       "      <th>Average Rating</th>\n",
       "      <th>Average Reviews</th>\n",
       "      <th>Number of Bikes</th>\n",
       "    </tr>\n",
       "  </thead>\n",
       "  <tbody>\n",
       "    <tr>\n",
       "      <th>0</th>\n",
       "      <td>1 Ave &amp; E 110 St</td>\n",
       "      <td>4.350</td>\n",
       "      <td>302.45</td>\n",
       "      <td>24</td>\n",
       "    </tr>\n",
       "    <tr>\n",
       "      <th>1</th>\n",
       "      <td>1 Ave &amp; E 30 St</td>\n",
       "      <td>4.325</td>\n",
       "      <td>1028.95</td>\n",
       "      <td>33</td>\n",
       "    </tr>\n",
       "    <tr>\n",
       "      <th>2</th>\n",
       "      <td>1 Ave &amp; E 62 St</td>\n",
       "      <td>4.250</td>\n",
       "      <td>687.30</td>\n",
       "      <td>34</td>\n",
       "    </tr>\n",
       "    <tr>\n",
       "      <th>3</th>\n",
       "      <td>1 Ave &amp; E 68 St</td>\n",
       "      <td>4.300</td>\n",
       "      <td>863.70</td>\n",
       "      <td>51</td>\n",
       "    </tr>\n",
       "    <tr>\n",
       "      <th>4</th>\n",
       "      <td>1 Ave &amp; E 94 St</td>\n",
       "      <td>4.175</td>\n",
       "      <td>496.20</td>\n",
       "      <td>38</td>\n",
       "    </tr>\n",
       "    <tr>\n",
       "      <th>...</th>\n",
       "      <td>...</td>\n",
       "      <td>...</td>\n",
       "      <td>...</td>\n",
       "      <td>...</td>\n",
       "    </tr>\n",
       "    <tr>\n",
       "      <th>495</th>\n",
       "      <td>Willoughby Ave &amp; Walworth St</td>\n",
       "      <td>4.150</td>\n",
       "      <td>346.05</td>\n",
       "      <td>17</td>\n",
       "    </tr>\n",
       "    <tr>\n",
       "      <th>496</th>\n",
       "      <td>Willoughby Ave &amp; Wyckoff Ave</td>\n",
       "      <td>4.250</td>\n",
       "      <td>347.35</td>\n",
       "      <td>21</td>\n",
       "    </tr>\n",
       "    <tr>\n",
       "      <th>497</th>\n",
       "      <td>Willoughby St &amp; Fleet St</td>\n",
       "      <td>4.150</td>\n",
       "      <td>436.90</td>\n",
       "      <td>59</td>\n",
       "    </tr>\n",
       "    <tr>\n",
       "      <th>498</th>\n",
       "      <td>Wyckoff Av &amp; Jefferson St</td>\n",
       "      <td>4.325</td>\n",
       "      <td>310.60</td>\n",
       "      <td>27</td>\n",
       "    </tr>\n",
       "    <tr>\n",
       "      <th>499</th>\n",
       "      <td>Wythe Ave &amp; Metropolitan Ave</td>\n",
       "      <td>4.175</td>\n",
       "      <td>804.15</td>\n",
       "      <td>49</td>\n",
       "    </tr>\n",
       "  </tbody>\n",
       "</table>\n",
       "<p>500 rows × 4 columns</p>\n",
       "</div>"
      ],
      "text/plain": [
       "                     Station Name  Average Rating  Average Reviews  \\\n",
       "0                1 Ave & E 110 St           4.350           302.45   \n",
       "1                 1 Ave & E 30 St           4.325          1028.95   \n",
       "2                 1 Ave & E 62 St           4.250           687.30   \n",
       "3                 1 Ave & E 68 St           4.300           863.70   \n",
       "4                 1 Ave & E 94 St           4.175           496.20   \n",
       "..                            ...             ...              ...   \n",
       "495  Willoughby Ave & Walworth St           4.150           346.05   \n",
       "496  Willoughby Ave & Wyckoff Ave           4.250           347.35   \n",
       "497      Willoughby St & Fleet St           4.150           436.90   \n",
       "498     Wyckoff Av & Jefferson St           4.325           310.60   \n",
       "499  Wythe Ave & Metropolitan Ave           4.175           804.15   \n",
       "\n",
       "     Number of Bikes  \n",
       "0                 24  \n",
       "1                 33  \n",
       "2                 34  \n",
       "3                 51  \n",
       "4                 38  \n",
       "..               ...  \n",
       "495               17  \n",
       "496               21  \n",
       "497               59  \n",
       "498               27  \n",
       "499               49  \n",
       "\n",
       "[500 rows x 4 columns]"
      ]
     },
     "execution_count": 2,
     "metadata": {},
     "output_type": "execute_result"
    }
   ],
   "source": [
    "grouped_business_df"
   ]
  },
  {
   "cell_type": "code",
   "execution_count": 12,
   "metadata": {
    "tags": []
   },
   "outputs": [],
   "source": [
    "X = grouped_business_df['Number of Bikes']\n",
    "Y = grouped_business_df['Average Rating']"
   ]
  },
  {
   "cell_type": "code",
   "execution_count": 14,
   "metadata": {
    "tags": []
   },
   "outputs": [],
   "source": [
    "X = sm.add_constant(X)\n",
    "lin_model = sm.OLS(Y, X).fit()"
   ]
  },
  {
   "cell_type": "code",
   "execution_count": 15,
   "metadata": {
    "tags": []
   },
   "outputs": [],
   "source": [
    "model = lin_model.summary()"
   ]
  },
  {
   "cell_type": "markdown",
   "metadata": {},
   "source": [
    "Provide model output and an interpretation of the results. "
   ]
  },
  {
   "cell_type": "code",
   "execution_count": 16,
   "metadata": {
    "tags": []
   },
   "outputs": [
    {
     "name": "stdout",
     "output_type": "stream",
     "text": [
      "                            OLS Regression Results                            \n",
      "==============================================================================\n",
      "Dep. Variable:         Average Rating   R-squared:                       0.002\n",
      "Model:                            OLS   Adj. R-squared:                 -0.000\n",
      "Method:                 Least Squares   F-statistic:                    0.8292\n",
      "Date:                Thu, 07 Sep 2023   Prob (F-statistic):              0.363\n",
      "Time:                        18:40:55   Log-Likelihood:                 431.99\n",
      "No. Observations:                 500   AIC:                            -860.0\n",
      "Df Residuals:                     498   BIC:                            -851.5\n",
      "Df Model:                           1                                         \n",
      "Covariance Type:            nonrobust                                         \n",
      "===================================================================================\n",
      "                      coef    std err          t      P>|t|      [0.025      0.975]\n",
      "-----------------------------------------------------------------------------------\n",
      "const               4.2433      0.009    456.121      0.000       4.225       4.262\n",
      "Number of Bikes    -0.0002      0.000     -0.911      0.363      -0.001       0.000\n",
      "==============================================================================\n",
      "Omnibus:                       25.179   Durbin-Watson:                   1.576\n",
      "Prob(Omnibus):                  0.000   Jarque-Bera (JB):               27.846\n",
      "Skew:                          -0.533   Prob(JB):                     8.98e-07\n",
      "Kurtosis:                       3.447   Cond. No.                         75.5\n",
      "==============================================================================\n",
      "\n",
      "Notes:\n",
      "[1] Standard Errors assume that the covariance matrix of the errors is correctly specified.\n"
     ]
    }
   ],
   "source": [
    "print(model)"
   ]
  },
  {
   "cell_type": "markdown",
   "metadata": {},
   "source": [
    "Interpretation of Results:\n",
    "\n",
    "R-squared: From the model above, an R-squared value of 0.032 indicates that about 3.2% of the variability in the dependent variable (Average Rating) is explained by the variability in the independent variable (Number of Bikes). Thus, this model does not explain a significant amount og variation in the dependent variable.\n",
    "\n",
    "P-value: In this model output, the P-values for both the const coefficient and the Number of Bikes coefficient are very small (close to zero). This indicates that they are both statistically significant predictors of the dependent variable, Average Rating.\n",
    "\n",
    "Coefficient: For this linear regression model, the coefficient for Number of Bikes is approximately 0.0019, suggestitng that on average, a one unit increase in the Number of Bikes correlates with an increase of 0.0019 in the Average Rating.\n",
    "\n",
    "Conclusion: While we can establish a statistically significant relationship between the independent and dependent variables, it is also worthy to note that the relationship between them is quite weak as evidenced by the low R-squared value."
   ]
  },
  {
   "cell_type": "markdown",
   "metadata": {},
   "source": [
    "# Stretch"
   ]
  },
  {
   "cell_type": "markdown",
   "metadata": {},
   "source": [
    "How can you turn the regression model into a classification model?"
   ]
  },
  {
   "cell_type": "markdown",
   "metadata": {},
   "source": [
    "To convert the regression model into a classification model, I will first define which attritube I am trying to predict. Next, I'll work on grouping mu continuous variables into discrete labels to help create the class. Then I'll select an appropriate classification algorithm and afterwards, evaluate my model."
   ]
  }
 ],
 "metadata": {
  "kernelspec": {
   "display_name": "Python 3 (ipykernel)",
   "language": "python",
   "name": "python3"
  },
  "language_info": {
   "codemirror_mode": {
    "name": "ipython",
    "version": 3
   },
   "file_extension": ".py",
   "mimetype": "text/x-python",
   "name": "python",
   "nbconvert_exporter": "python",
   "pygments_lexer": "ipython3",
   "version": "3.11.3"
  }
 },
 "nbformat": 4,
 "nbformat_minor": 4
}

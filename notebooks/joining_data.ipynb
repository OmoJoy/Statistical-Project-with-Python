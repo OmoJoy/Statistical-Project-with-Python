{
 "cells": [
  {
   "cell_type": "markdown",
   "metadata": {},
   "source": [
    "Join the data from Part 1 with the data from Part 2 to create a new dataframe."
   ]
  },
  {
   "cell_type": "code",
   "execution_count": 30,
   "metadata": {
    "tags": []
   },
   "outputs": [],
   "source": [
    "# imports\n",
    "import pandas as pd\n",
    "import sqlite3\n",
    "from sqlite3 import Error\n",
    "import seaborn as sns"
   ]
  },
  {
   "cell_type": "code",
   "execution_count": 31,
   "metadata": {
    "tags": []
   },
   "outputs": [],
   "source": [
    "bike_stations_df = pd.read_csv('bike_stations.csv', index_col = 0)\n",
    "yelp_business_df = pd.read_csv('yelp_business.csv', index_col = 0)"
   ]
  },
  {
   "cell_type": "code",
   "execution_count": 32,
   "metadata": {
    "tags": []
   },
   "outputs": [],
   "source": [
    "Business_and_Bike_Stations_df = pd.merge(yelp_business_df, bike_stations_df, on = 'Station Name')\n",
    "Business_and_Bike_Stations_df = Business_and_Bike_Stations_df.drop(columns=['Latitude', 'Longitude'])"
   ]
  },
  {
   "cell_type": "code",
   "execution_count": 37,
   "metadata": {
    "tags": []
   },
   "outputs": [
    {
     "data": {
      "text/html": [
       "<div>\n",
       "<style scoped>\n",
       "    .dataframe tbody tr th:only-of-type {\n",
       "        vertical-align: middle;\n",
       "    }\n",
       "\n",
       "    .dataframe tbody tr th {\n",
       "        vertical-align: top;\n",
       "    }\n",
       "\n",
       "    .dataframe thead th {\n",
       "        text-align: right;\n",
       "    }\n",
       "</style>\n",
       "<table border=\"1\" class=\"dataframe\">\n",
       "  <thead>\n",
       "    <tr style=\"text-align: right;\">\n",
       "      <th></th>\n",
       "      <th>Station Name</th>\n",
       "      <th>Station Latitude</th>\n",
       "      <th>Station Longitude</th>\n",
       "      <th>Business Category</th>\n",
       "      <th>Business Name</th>\n",
       "      <th>Rating</th>\n",
       "      <th>Number of Reviews</th>\n",
       "      <th>Address</th>\n",
       "      <th>Contact</th>\n",
       "      <th>Available Bikes</th>\n",
       "      <th>Empty Slots</th>\n",
       "      <th>Number of Bikes</th>\n",
       "    </tr>\n",
       "  </thead>\n",
       "  <tbody>\n",
       "    <tr>\n",
       "      <th>0</th>\n",
       "      <td>W 100 St &amp; Manhattan Ave</td>\n",
       "      <td>40.795000</td>\n",
       "      <td>-73.964500</td>\n",
       "      <td>Bars</td>\n",
       "      <td>The Calaveras</td>\n",
       "      <td>4.5</td>\n",
       "      <td>231</td>\n",
       "      <td>949 Columbus Ave</td>\n",
       "      <td>(646) 484-6533</td>\n",
       "      <td>33</td>\n",
       "      <td>0</td>\n",
       "      <td>33</td>\n",
       "    </tr>\n",
       "    <tr>\n",
       "      <th>1</th>\n",
       "      <td>W 100 St &amp; Manhattan Ave</td>\n",
       "      <td>40.795000</td>\n",
       "      <td>-73.964500</td>\n",
       "      <td>Comfort Food</td>\n",
       "      <td>Jacob's Pickles</td>\n",
       "      <td>4.0</td>\n",
       "      <td>5409</td>\n",
       "      <td>509 Amsterdam Ave</td>\n",
       "      <td>(212) 470-5566</td>\n",
       "      <td>33</td>\n",
       "      <td>0</td>\n",
       "      <td>33</td>\n",
       "    </tr>\n",
       "    <tr>\n",
       "      <th>2</th>\n",
       "      <td>W 100 St &amp; Manhattan Ave</td>\n",
       "      <td>40.795000</td>\n",
       "      <td>-73.964500</td>\n",
       "      <td>Sardinian</td>\n",
       "      <td>Arco Cafe</td>\n",
       "      <td>4.5</td>\n",
       "      <td>353</td>\n",
       "      <td>886 Amsterdam Ave</td>\n",
       "      <td>(646) 781-9080</td>\n",
       "      <td>33</td>\n",
       "      <td>0</td>\n",
       "      <td>33</td>\n",
       "    </tr>\n",
       "    <tr>\n",
       "      <th>3</th>\n",
       "      <td>W 100 St &amp; Manhattan Ave</td>\n",
       "      <td>40.795000</td>\n",
       "      <td>-73.964500</td>\n",
       "      <td>Burgers</td>\n",
       "      <td>Bareburger - Upper West Side</td>\n",
       "      <td>3.5</td>\n",
       "      <td>393</td>\n",
       "      <td>795 Columbus Ave</td>\n",
       "      <td>(646) 559-2986</td>\n",
       "      <td>33</td>\n",
       "      <td>0</td>\n",
       "      <td>33</td>\n",
       "    </tr>\n",
       "    <tr>\n",
       "      <th>4</th>\n",
       "      <td>W 100 St &amp; Manhattan Ave</td>\n",
       "      <td>40.795000</td>\n",
       "      <td>-73.964500</td>\n",
       "      <td>French</td>\n",
       "      <td>Amelie</td>\n",
       "      <td>4.5</td>\n",
       "      <td>296</td>\n",
       "      <td>566 Amsterdam Ave</td>\n",
       "      <td>(646) 422-7167</td>\n",
       "      <td>33</td>\n",
       "      <td>0</td>\n",
       "      <td>33</td>\n",
       "    </tr>\n",
       "    <tr>\n",
       "      <th>...</th>\n",
       "      <td>...</td>\n",
       "      <td>...</td>\n",
       "      <td>...</td>\n",
       "      <td>...</td>\n",
       "      <td>...</td>\n",
       "      <td>...</td>\n",
       "      <td>...</td>\n",
       "      <td>...</td>\n",
       "      <td>...</td>\n",
       "      <td>...</td>\n",
       "      <td>...</td>\n",
       "      <td>...</td>\n",
       "    </tr>\n",
       "    <tr>\n",
       "      <th>9995</th>\n",
       "      <td>9 Ave &amp; W 22 St</td>\n",
       "      <td>40.745497</td>\n",
       "      <td>-74.001971</td>\n",
       "      <td>Spanish</td>\n",
       "      <td>Salinas</td>\n",
       "      <td>4.0</td>\n",
       "      <td>1007</td>\n",
       "      <td>136 9th Ave</td>\n",
       "      <td>(212) 776-1990</td>\n",
       "      <td>45</td>\n",
       "      <td>3</td>\n",
       "      <td>48</td>\n",
       "    </tr>\n",
       "    <tr>\n",
       "      <th>9996</th>\n",
       "      <td>9 Ave &amp; W 22 St</td>\n",
       "      <td>40.745497</td>\n",
       "      <td>-74.001971</td>\n",
       "      <td>Georgian</td>\n",
       "      <td>Chama Mama - New York</td>\n",
       "      <td>4.5</td>\n",
       "      <td>684</td>\n",
       "      <td>149 W 14th St</td>\n",
       "      <td>(646) 438-9007</td>\n",
       "      <td>45</td>\n",
       "      <td>3</td>\n",
       "      <td>48</td>\n",
       "    </tr>\n",
       "    <tr>\n",
       "      <th>9997</th>\n",
       "      <td>9 Ave &amp; W 22 St</td>\n",
       "      <td>40.745497</td>\n",
       "      <td>-74.001971</td>\n",
       "      <td>Ramen</td>\n",
       "      <td>Kame</td>\n",
       "      <td>4.5</td>\n",
       "      <td>768</td>\n",
       "      <td>330 8th Ave</td>\n",
       "      <td>(917) 391-8587</td>\n",
       "      <td>45</td>\n",
       "      <td>3</td>\n",
       "      <td>48</td>\n",
       "    </tr>\n",
       "    <tr>\n",
       "      <th>9998</th>\n",
       "      <td>9 Ave &amp; W 22 St</td>\n",
       "      <td>40.745497</td>\n",
       "      <td>-74.001971</td>\n",
       "      <td>Mexican</td>\n",
       "      <td>Temerario</td>\n",
       "      <td>4.0</td>\n",
       "      <td>377</td>\n",
       "      <td>198 8th Ave</td>\n",
       "      <td>(212) 645-2100</td>\n",
       "      <td>45</td>\n",
       "      <td>3</td>\n",
       "      <td>48</td>\n",
       "    </tr>\n",
       "    <tr>\n",
       "      <th>9999</th>\n",
       "      <td>9 Ave &amp; W 22 St</td>\n",
       "      <td>40.745497</td>\n",
       "      <td>-74.001971</td>\n",
       "      <td>Seafood</td>\n",
       "      <td>The Mermaid Inn - Chelsea</td>\n",
       "      <td>4.5</td>\n",
       "      <td>116</td>\n",
       "      <td>227 10th Ave</td>\n",
       "      <td>(212) 999-5939</td>\n",
       "      <td>45</td>\n",
       "      <td>3</td>\n",
       "      <td>48</td>\n",
       "    </tr>\n",
       "  </tbody>\n",
       "</table>\n",
       "<p>10000 rows × 12 columns</p>\n",
       "</div>"
      ],
      "text/plain": [
       "                  Station Name  Station Latitude  Station Longitude  \\\n",
       "0     W 100 St & Manhattan Ave         40.795000         -73.964500   \n",
       "1     W 100 St & Manhattan Ave         40.795000         -73.964500   \n",
       "2     W 100 St & Manhattan Ave         40.795000         -73.964500   \n",
       "3     W 100 St & Manhattan Ave         40.795000         -73.964500   \n",
       "4     W 100 St & Manhattan Ave         40.795000         -73.964500   \n",
       "...                        ...               ...                ...   \n",
       "9995           9 Ave & W 22 St         40.745497         -74.001971   \n",
       "9996           9 Ave & W 22 St         40.745497         -74.001971   \n",
       "9997           9 Ave & W 22 St         40.745497         -74.001971   \n",
       "9998           9 Ave & W 22 St         40.745497         -74.001971   \n",
       "9999           9 Ave & W 22 St         40.745497         -74.001971   \n",
       "\n",
       "     Business Category                 Business Name  Rating  \\\n",
       "0                 Bars                 The Calaveras     4.5   \n",
       "1         Comfort Food               Jacob's Pickles     4.0   \n",
       "2            Sardinian                     Arco Cafe     4.5   \n",
       "3              Burgers  Bareburger - Upper West Side     3.5   \n",
       "4               French                        Amelie     4.5   \n",
       "...                ...                           ...     ...   \n",
       "9995           Spanish                       Salinas     4.0   \n",
       "9996          Georgian         Chama Mama - New York     4.5   \n",
       "9997             Ramen                          Kame     4.5   \n",
       "9998           Mexican                     Temerario     4.0   \n",
       "9999           Seafood     The Mermaid Inn - Chelsea     4.5   \n",
       "\n",
       "      Number of Reviews            Address         Contact  Available Bikes  \\\n",
       "0                   231   949 Columbus Ave  (646) 484-6533               33   \n",
       "1                  5409  509 Amsterdam Ave  (212) 470-5566               33   \n",
       "2                   353  886 Amsterdam Ave  (646) 781-9080               33   \n",
       "3                   393   795 Columbus Ave  (646) 559-2986               33   \n",
       "4                   296  566 Amsterdam Ave  (646) 422-7167               33   \n",
       "...                 ...                ...             ...              ...   \n",
       "9995               1007        136 9th Ave  (212) 776-1990               45   \n",
       "9996                684      149 W 14th St  (646) 438-9007               45   \n",
       "9997                768        330 8th Ave  (917) 391-8587               45   \n",
       "9998                377        198 8th Ave  (212) 645-2100               45   \n",
       "9999                116       227 10th Ave  (212) 999-5939               45   \n",
       "\n",
       "      Empty Slots  Number of Bikes  \n",
       "0               0               33  \n",
       "1               0               33  \n",
       "2               0               33  \n",
       "3               0               33  \n",
       "4               0               33  \n",
       "...           ...              ...  \n",
       "9995            3               48  \n",
       "9996            3               48  \n",
       "9997            3               48  \n",
       "9998            3               48  \n",
       "9999            3               48  \n",
       "\n",
       "[10000 rows x 12 columns]"
      ]
     },
     "execution_count": 37,
     "metadata": {},
     "output_type": "execute_result"
    }
   ],
   "source": [
    "Business_and_Bike_Stations_df['Number of Bikes'] = Business_and_Bike_Stations_df['Available Bikes'] + Business_and_Bike_Stations_df['Empty Slots']\n",
    "Business_and_Bike_Stations_df"
   ]
  },
  {
   "cell_type": "code",
   "execution_count": 38,
   "metadata": {
    "tags": []
   },
   "outputs": [],
   "source": [
    "\n",
    "Business_and_Bike_Stations_df.to_csv('Business_and_Bike_Stations.csv')"
   ]
  },
  {
   "cell_type": "code",
   "execution_count": 39,
   "metadata": {
    "tags": []
   },
   "outputs": [
    {
     "name": "stdout",
     "output_type": "stream",
     "text": [
      "                     Station Name  Average Rating  Average Reviews  \\\n",
      "0                1 Ave & E 110 St           4.350           302.45   \n",
      "1                 1 Ave & E 30 St           4.325          1028.95   \n",
      "2                 1 Ave & E 62 St           4.250           687.30   \n",
      "3                 1 Ave & E 68 St           4.300           863.70   \n",
      "4                 1 Ave & E 94 St           4.175           496.20   \n",
      "..                            ...             ...              ...   \n",
      "495  Willoughby Ave & Walworth St           4.150           346.05   \n",
      "496  Willoughby Ave & Wyckoff Ave           4.250           347.35   \n",
      "497      Willoughby St & Fleet St           4.150           436.90   \n",
      "498     Wyckoff Av & Jefferson St           4.325           310.60   \n",
      "499  Wythe Ave & Metropolitan Ave           4.175           804.15   \n",
      "\n",
      "     Number of Bikes  \n",
      "0                 24  \n",
      "1                 33  \n",
      "2                 34  \n",
      "3                 51  \n",
      "4                 38  \n",
      "..               ...  \n",
      "495               17  \n",
      "496               21  \n",
      "497               59  \n",
      "498               27  \n",
      "499               49  \n",
      "\n",
      "[500 rows x 4 columns]\n"
     ]
    }
   ],
   "source": [
    "grouped_business = Business_and_Bike_Stations_df.groupby('Station Name').agg({\n",
    "    'Rating': 'mean',\n",
    "    'Number of Reviews': 'mean',\n",
    "    'Number of Bikes': 'max'\n",
    "}).reset_index()\n",
    "\n",
    "grouped_business = grouped_business.rename(columns={\n",
    "    'Rating': 'Average Rating',\n",
    "    'Number of Reviews': 'Average Reviews',\n",
    "})\n",
    "grouped_business_df = pd.DataFrame(grouped_business)\n",
    "print(grouped_business_df)"
   ]
  },
  {
   "cell_type": "code",
   "execution_count": 40,
   "metadata": {
    "tags": []
   },
   "outputs": [],
   "source": [
    "grouped_business_df.to_csv('grouped_business.csv')"
   ]
  },
  {
   "cell_type": "markdown",
   "metadata": {},
   "source": [
    "Provide a visualization that you used as part of your EDA process. Explain the initial pattern or relationship you discoved through this visualization. "
   ]
  },
  {
   "cell_type": "code",
   "execution_count": 41,
   "metadata": {
    "tags": []
   },
   "outputs": [
    {
     "data": {
      "text/plain": [
       "(10000, 12)"
      ]
     },
     "execution_count": 41,
     "metadata": {},
     "output_type": "execute_result"
    }
   ],
   "source": [
    "Business_and_Bike_Stations_df.shape"
   ]
  },
  {
   "cell_type": "code",
   "execution_count": 42,
   "metadata": {
    "tags": []
   },
   "outputs": [
    {
     "data": {
      "text/plain": [
       "count                        10000\n",
       "unique                         500\n",
       "top       W 100 St & Manhattan Ave\n",
       "freq                            20\n",
       "Name: Station Name, dtype: object"
      ]
     },
     "execution_count": 42,
     "metadata": {},
     "output_type": "execute_result"
    }
   ],
   "source": [
    "Business_and_Bike_Stations_df['Station Name'].describe()"
   ]
  },
  {
   "cell_type": "code",
   "execution_count": 43,
   "metadata": {
    "tags": []
   },
   "outputs": [
    {
     "data": {
      "text/plain": [
       "count    10000.000000\n",
       "mean         4.235900\n",
       "std          0.341267\n",
       "min          2.500000\n",
       "25%          4.000000\n",
       "50%          4.000000\n",
       "75%          4.500000\n",
       "max          5.000000\n",
       "Name: Rating, dtype: float64"
      ]
     },
     "execution_count": 43,
     "metadata": {},
     "output_type": "execute_result"
    }
   ],
   "source": [
    "Business_and_Bike_Stations_df['Rating'].describe()"
   ]
  },
  {
   "cell_type": "code",
   "execution_count": 44,
   "metadata": {
    "tags": []
   },
   "outputs": [
    {
     "data": {
      "text/plain": [
       "count    10000.00000\n",
       "mean        32.27000\n",
       "std         18.20138\n",
       "min         11.00000\n",
       "25%         20.00000\n",
       "50%         26.00000\n",
       "75%         38.25000\n",
       "max        110.00000\n",
       "Name: Number of Bikes, dtype: float64"
      ]
     },
     "execution_count": 44,
     "metadata": {},
     "output_type": "execute_result"
    }
   ],
   "source": [
    "Business_and_Bike_Stations_df['Number of Bikes'].describe()"
   ]
  },
  {
   "cell_type": "code",
   "execution_count": 45,
   "metadata": {
    "tags": []
   },
   "outputs": [
    {
     "data": {
      "text/plain": [
       "<Axes: xlabel='Number of Bikes', ylabel='Count'>"
      ]
     },
     "execution_count": 45,
     "metadata": {},
     "output_type": "execute_result"
    },
    {
     "data": {
      "image/png": "[encoded data removed]",
      "text/plain": [
       "<Figure size 640x480 with 1 Axes>"
      ]
     },
     "metadata": {},
     "output_type": "display_data"
    }
   ],
   "source": [
    "sns.histplot(Business_and_Bike_Stations_df['Number of Bikes'])"
   ]
  },
  {
   "cell_type": "code",
   "execution_count": 46,
   "metadata": {
    "tags": []
   },
   "outputs": [
    {
     "data": {
      "text/plain": [
       "<Axes: xlabel='Rating', ylabel='Count'>"
      ]
     },
     "execution_count": 46,
     "metadata": {},
     "output_type": "execute_result"
    },
    {
     "data": {
      "image/png": "[encoded data removed]",
      "text/plain": [
       "<Figure size 640x480 with 1 Axes>"
      ]
     },
     "metadata": {},
     "output_type": "display_data"
    }
   ],
   "source": [
    "sns.histplot(Business_and_Bike_Stations_df['Rating'])"
   ]
  },
  {
   "cell_type": "markdown",
   "metadata": {},
   "source": [
    "##### Database"
   ]
  },
  {
   "cell_type": "markdown",
   "metadata": {},
   "source": [
    "Put all your results in an SQLite3 database (remember, SQLite stores its databases as files in your local machine - make sure to create your database in your project's data/ directory!)"
   ]
  },
  {
   "cell_type": "code",
   "execution_count": 47,
   "metadata": {},
   "outputs": [],
   "source": [
    "def create_connection(path):\n",
    "    connection = None\n",
    "    try:\n",
    "        connection = sqlite3.connect(path)\n",
    "        print(\"Connection to SQLite DB successful\")\n",
    "    except Error as e:\n",
    "        print(f\"The error '{e}' occurred\")\n",
    "\n",
    "    return connection"
   ]
  },
  {
   "cell_type": "code",
   "execution_count": 48,
   "metadata": {
    "tags": []
   },
   "outputs": [
    {
     "name": "stdout",
     "output_type": "stream",
     "text": [
      "Connection to SQLite DB successful\n"
     ]
    }
   ],
   "source": [
    "connection = create_connection(\"Business_and_Bike_Stations.sqlite\")\n",
    "connect = sqlite3.connect('Business_and_Bike_Stations.sqlite')"
   ]
  },
  {
   "cell_type": "code",
   "execution_count": 49,
   "metadata": {
    "tags": []
   },
   "outputs": [
    {
     "data": {
      "text/plain": [
       "10000"
      ]
     },
     "execution_count": 49,
     "metadata": {},
     "output_type": "execute_result"
    }
   ],
   "source": [
    "table_name = 'Business_and_Bike_Stations'\n",
    "Business_and_Bike_Stations_df.to_sql(table_name, connect, if_exists='replace', index=False)"
   ]
  },
  {
   "cell_type": "code",
   "execution_count": 50,
   "metadata": {
    "tags": []
   },
   "outputs": [],
   "source": [
    "connect.commit()\n",
    "connect.close()"
   ]
  },
  {
   "cell_type": "markdown",
   "metadata": {},
   "source": [
    "Look at the data before and after the join to validate your data."
   ]
  },
  {
   "cell_type": "code",
   "execution_count": 51,
   "metadata": {},
   "outputs": [
    {
     "name": "stdout",
     "output_type": "stream",
     "text": [
      "1986\n",
      "1986\n",
      "5\n",
      "1986\n"
     ]
    }
   ],
   "source": [
    "print(len(bike_stations_df.index))\n",
    "print(bike_stations_df.shape[0])\n",
    "print(bike_stations_df.shape[1])\n",
    "print(bike_stations_df[bike_stations_df.columns[0]].count())"
   ]
  },
  {
   "cell_type": "code",
   "execution_count": 52,
   "metadata": {
    "tags": []
   },
   "outputs": [
    {
     "name": "stdout",
     "output_type": "stream",
     "text": [
      "10000\n",
      "10000\n",
      "9\n",
      "10000\n"
     ]
    }
   ],
   "source": [
    "print(len(yelp_business_df.index))\n",
    "print(yelp_business_df.shape[0])\n",
    "print(yelp_business_df.shape[1])\n",
    "print(yelp_business_df[yelp_business_df.columns[0]].count())"
   ]
  },
  {
   "cell_type": "code",
   "execution_count": 53,
   "metadata": {
    "tags": []
   },
   "outputs": [
    {
     "name": "stdout",
     "output_type": "stream",
     "text": [
      "10000\n",
      "10000\n",
      "12\n",
      "10000\n"
     ]
    }
   ],
   "source": [
    "print(len(Business_and_Bike_Stations_df.index))\n",
    "print(Business_and_Bike_Stations_df.shape[0])\n",
    "print(Business_and_Bike_Stations_df.shape[1])\n",
    "print(Business_and_Bike_Stations_df[Business_and_Bike_Stations_df.columns[0]].count())"
   ]
  }
 ],
 "metadata": {
  "kernelspec": {
   "display_name": "Python 3 (ipykernel)",
   "language": "python",
   "name": "python3"
  },
  "language_info": {
   "codemirror_mode": {
    "name": "ipython",
    "version": 3
   },
   "file_extension": ".py",
   "mimetype": "text/x-python",
   "name": "python",
   "nbconvert_exporter": "python",
   "pygments_lexer": "ipython3",
   "version": "3.11.3"
  }
 },
 "nbformat": 4,
 "nbformat_minor": 4
}
